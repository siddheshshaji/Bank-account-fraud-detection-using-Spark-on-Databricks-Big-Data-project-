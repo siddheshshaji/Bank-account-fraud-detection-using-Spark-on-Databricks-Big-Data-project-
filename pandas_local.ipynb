{
 "cells": [
  {
   "cell_type": "code",
   "execution_count": 1,
   "id": "6657db38",
   "metadata": {},
   "outputs": [],
   "source": [
    "import pandas as pd\n",
    "import pandasql as ps\n",
    "import matplotlib.pyplot as plt"
   ]
  },
  {
   "cell_type": "code",
   "execution_count": 2,
   "id": "de9c2158",
   "metadata": {},
   "outputs": [],
   "source": [
    "df = pd.read_csv('/Users/siddheshshaji/Downloads/archive/base.csv')\n",
    "df1 = pd.read_csv('/Users/siddheshshaji/Downloads/archive/base1.csv')\n",
    "df2 = pd.read_csv('/Users/siddheshshaji/Downloads/archive/base2.csv')\n",
    "df3 = pd.read_csv('/Users/siddheshshaji/Downloads/archive/base3.csv')\n",
    "df4 = pd.read_csv('/Users/siddheshshaji/Downloads/archive/base4.csv')\n",
    "df5 = pd.read_csv('/Users/siddheshshaji/Downloads/archive/base5.csv')"
   ]
  },
  {
   "cell_type": "code",
   "execution_count": 3,
   "id": "4c36b192",
   "metadata": {},
   "outputs": [],
   "source": [
    "df1_ones = df1[df1['fraud_bool'] == 1] \n",
    "df2_ones = df2[df2['fraud_bool'] == 1] \n",
    "df3_ones = df3[df3['fraud_bool'] == 1] \n",
    "df4_ones = df4[df4['fraud_bool'] == 1] \n",
    "df5_ones = df5[df5['fraud_bool'] == 1] "
   ]
  },
  {
   "cell_type": "code",
   "execution_count": 4,
   "id": "71052a56",
   "metadata": {},
   "outputs": [],
   "source": [
    "final_df = pd.concat([df, df1_ones, df2_ones, df3_ones, df4_ones, df5_ones], ignore_index=True)"
   ]
  },
  {
   "cell_type": "code",
   "execution_count": 5,
   "id": "d6025643",
   "metadata": {},
   "outputs": [],
   "source": [
    "dfd = final_df.drop_duplicates(keep='first')"
   ]
  },
  {
   "cell_type": "code",
   "execution_count": 6,
   "id": "30d13a37",
   "metadata": {},
   "outputs": [],
   "source": [
    "dfd = dfd.drop(['device_fraud_count', 'days_since_request', 'zip_count_4w', 'velocity_6h', 'velocity_24h', \\\n",
    "          'velocity_4w', 'month', 'x1', 'x2'], axis=1)"
   ]
  },
  {
   "cell_type": "code",
   "execution_count": 7,
   "id": "70076080",
   "metadata": {
    "scrolled": true
   },
   "outputs": [
    {
     "data": {
      "text/plain": [
       "Index(['fraud_bool', 'income', 'name_email_similarity',\n",
       "       'prev_address_months_count', 'current_address_months_count',\n",
       "       'customer_age', 'intended_balcon_amount', 'payment_type',\n",
       "       'bank_branch_count_8w', 'date_of_birth_distinct_emails_4w',\n",
       "       'employment_status', 'credit_risk_score', 'email_is_free',\n",
       "       'housing_status', 'phone_home_valid', 'phone_mobile_valid',\n",
       "       'bank_months_count', 'has_other_cards', 'proposed_credit_limit',\n",
       "       'foreign_request', 'source', 'session_length_in_minutes', 'device_os',\n",
       "       'keep_alive_session', 'device_distinct_emails_8w'],\n",
       "      dtype='object')"
      ]
     },
     "execution_count": 7,
     "metadata": {},
     "output_type": "execute_result"
    }
   ],
   "source": [
    "dfd.columns"
   ]
  },
  {
   "cell_type": "markdown",
   "id": "ba42991b",
   "metadata": {},
   "source": [
    "# Features that need binning: bank_branch_count_8w, prev_address_months_count, current_address_months_count\n",
    "    "
   ]
  },
  {
   "cell_type": "markdown",
   "id": "017e4df7",
   "metadata": {},
   "source": [
    "# Binning for bank_branch_count_8w"
   ]
  },
  {
   "cell_type": "code",
   "execution_count": 11,
   "id": "26e649c7",
   "metadata": {},
   "outputs": [
    {
     "data": {
      "text/plain": [
       "[0,\n",
       " 1,\n",
       " 2,\n",
       " 3,\n",
       " 4,\n",
       " 5,\n",
       " 6,\n",
       " 7,\n",
       " 8,\n",
       " 9,\n",
       " 10,\n",
       " 11,\n",
       " 12,\n",
       " 13,\n",
       " 14,\n",
       " 15,\n",
       " 16,\n",
       " 17,\n",
       " 18,\n",
       " 19,\n",
       " 20,\n",
       " 21,\n",
       " 22,\n",
       " 23,\n",
       " 24,\n",
       " 25,\n",
       " 26,\n",
       " 27,\n",
       " 28,\n",
       " 29,\n",
       " 30,\n",
       " 31,\n",
       " 32,\n",
       " 33,\n",
       " 34,\n",
       " 35,\n",
       " 36,\n",
       " 37,\n",
       " 38,\n",
       " 39,\n",
       " 40,\n",
       " 41,\n",
       " 42,\n",
       " 43,\n",
       " 44,\n",
       " 45,\n",
       " 46,\n",
       " 47,\n",
       " 48,\n",
       " 49,\n",
       " 50,\n",
       " 51,\n",
       " 52,\n",
       " 53,\n",
       " 54,\n",
       " 55,\n",
       " 56,\n",
       " 57,\n",
       " 58,\n",
       " 59,\n",
       " 60,\n",
       " 61,\n",
       " 62,\n",
       " 63,\n",
       " 64,\n",
       " 65,\n",
       " 66,\n",
       " 67,\n",
       " 68,\n",
       " 69,\n",
       " 70,\n",
       " 71,\n",
       " 72,\n",
       " 73,\n",
       " 74,\n",
       " 75,\n",
       " 76,\n",
       " 77,\n",
       " 78,\n",
       " 79,\n",
       " 80,\n",
       " 81,\n",
       " 82,\n",
       " 83,\n",
       " 84,\n",
       " 85,\n",
       " 86,\n",
       " 87,\n",
       " 88,\n",
       " 89,\n",
       " 90,\n",
       " 91,\n",
       " 92,\n",
       " 93,\n",
       " 94,\n",
       " 95,\n",
       " 96,\n",
       " 97,\n",
       " 98,\n",
       " 99,\n",
       " 100,\n",
       " 101,\n",
       " 102,\n",
       " 103,\n",
       " 104,\n",
       " 105,\n",
       " 106,\n",
       " 107,\n",
       " 108,\n",
       " 109,\n",
       " 110,\n",
       " 111,\n",
       " 112,\n",
       " 113,\n",
       " 114,\n",
       " 115,\n",
       " 116,\n",
       " 117,\n",
       " 118,\n",
       " 119,\n",
       " 120,\n",
       " 121,\n",
       " 122,\n",
       " 123,\n",
       " 124,\n",
       " 125,\n",
       " 126,\n",
       " 127,\n",
       " 128,\n",
       " 129,\n",
       " 130,\n",
       " 131,\n",
       " 132,\n",
       " 133,\n",
       " 134,\n",
       " 135,\n",
       " 136,\n",
       " 137,\n",
       " 138,\n",
       " 139,\n",
       " 140,\n",
       " 141,\n",
       " 142,\n",
       " 143,\n",
       " 144,\n",
       " 145,\n",
       " 146,\n",
       " 147,\n",
       " 148,\n",
       " 149,\n",
       " 150,\n",
       " 151,\n",
       " 152,\n",
       " 153,\n",
       " 154,\n",
       " 155,\n",
       " 156,\n",
       " 157,\n",
       " 158,\n",
       " 159,\n",
       " 160,\n",
       " 161,\n",
       " 162,\n",
       " 163,\n",
       " 164,\n",
       " 165,\n",
       " 166,\n",
       " 167,\n",
       " 168,\n",
       " 169,\n",
       " 170,\n",
       " 171,\n",
       " 172,\n",
       " 173,\n",
       " 174,\n",
       " 175,\n",
       " 176,\n",
       " 177,\n",
       " 178,\n",
       " 179,\n",
       " 180,\n",
       " 181,\n",
       " 182,\n",
       " 183,\n",
       " 184,\n",
       " 185,\n",
       " 186,\n",
       " 187,\n",
       " 188,\n",
       " 189,\n",
       " 190,\n",
       " 191,\n",
       " 192,\n",
       " 193,\n",
       " 194,\n",
       " 195,\n",
       " 196,\n",
       " 197,\n",
       " 198,\n",
       " 199,\n",
       " 200,\n",
       " 201,\n",
       " 202,\n",
       " 203,\n",
       " 204,\n",
       " 205,\n",
       " 206,\n",
       " 207,\n",
       " 208,\n",
       " 209,\n",
       " 210,\n",
       " 211,\n",
       " 212,\n",
       " 213,\n",
       " 214,\n",
       " 215,\n",
       " 216,\n",
       " 217,\n",
       " 218,\n",
       " 219,\n",
       " 220,\n",
       " 221,\n",
       " 222,\n",
       " 223,\n",
       " 224,\n",
       " 225,\n",
       " 226,\n",
       " 227,\n",
       " 228,\n",
       " 229,\n",
       " 230,\n",
       " 231,\n",
       " 232,\n",
       " 233,\n",
       " 234,\n",
       " 235,\n",
       " 236,\n",
       " 237,\n",
       " 238,\n",
       " 239,\n",
       " 240,\n",
       " 241,\n",
       " 242,\n",
       " 243,\n",
       " 244,\n",
       " 245,\n",
       " 246,\n",
       " 247,\n",
       " 248,\n",
       " 249,\n",
       " 250,\n",
       " 251,\n",
       " 252,\n",
       " 253,\n",
       " 254,\n",
       " 255,\n",
       " 256,\n",
       " 257,\n",
       " 258,\n",
       " 259,\n",
       " 260,\n",
       " 261,\n",
       " 262,\n",
       " 263,\n",
       " 264,\n",
       " 265,\n",
       " 266,\n",
       " 267,\n",
       " 268,\n",
       " 269,\n",
       " 270,\n",
       " 271,\n",
       " 272,\n",
       " 273,\n",
       " 274,\n",
       " 275,\n",
       " 276,\n",
       " 277,\n",
       " 278,\n",
       " 279,\n",
       " 280,\n",
       " 281,\n",
       " 282,\n",
       " 283,\n",
       " 284,\n",
       " 285,\n",
       " 286,\n",
       " 287,\n",
       " 288,\n",
       " 289,\n",
       " 290,\n",
       " 291,\n",
       " 292,\n",
       " 293,\n",
       " 294,\n",
       " 295,\n",
       " 296,\n",
       " 297,\n",
       " 298,\n",
       " 299,\n",
       " 300,\n",
       " 301,\n",
       " 302,\n",
       " 303,\n",
       " 304,\n",
       " 305,\n",
       " 306,\n",
       " 307,\n",
       " 308,\n",
       " 309,\n",
       " 310,\n",
       " 311,\n",
       " 312,\n",
       " 313,\n",
       " 314,\n",
       " 315,\n",
       " 316,\n",
       " 317,\n",
       " 318,\n",
       " 319,\n",
       " 320,\n",
       " 321,\n",
       " 322,\n",
       " 323,\n",
       " 324,\n",
       " 325,\n",
       " 326,\n",
       " 327,\n",
       " 328,\n",
       " 329,\n",
       " 330,\n",
       " 331,\n",
       " 332,\n",
       " 333,\n",
       " 334,\n",
       " 335,\n",
       " 336,\n",
       " 337,\n",
       " 338,\n",
       " 339,\n",
       " 340,\n",
       " 341,\n",
       " 342,\n",
       " 343,\n",
       " 344,\n",
       " 345,\n",
       " 346,\n",
       " 347,\n",
       " 348,\n",
       " 349,\n",
       " 350,\n",
       " 351,\n",
       " 352,\n",
       " 353,\n",
       " 354,\n",
       " 355,\n",
       " 356,\n",
       " 357,\n",
       " 358,\n",
       " 359,\n",
       " 360,\n",
       " 361,\n",
       " 362,\n",
       " 363,\n",
       " 364,\n",
       " 365,\n",
       " 366,\n",
       " 367,\n",
       " 368,\n",
       " 369,\n",
       " 370,\n",
       " 371,\n",
       " 372,\n",
       " 373,\n",
       " 374,\n",
       " 375,\n",
       " 376,\n",
       " 377,\n",
       " 378,\n",
       " 379,\n",
       " 380,\n",
       " 381,\n",
       " 382,\n",
       " 383,\n",
       " 384,\n",
       " 385,\n",
       " 386,\n",
       " 387,\n",
       " 388,\n",
       " 389,\n",
       " 390,\n",
       " 391,\n",
       " 392,\n",
       " 393,\n",
       " 394,\n",
       " 395,\n",
       " 396,\n",
       " 397,\n",
       " 398,\n",
       " 399,\n",
       " 400,\n",
       " 401,\n",
       " 402,\n",
       " 403,\n",
       " 404,\n",
       " 405,\n",
       " 406,\n",
       " 407,\n",
       " 408,\n",
       " 409,\n",
       " 410,\n",
       " 411,\n",
       " 412,\n",
       " 413,\n",
       " 414,\n",
       " 415,\n",
       " 416,\n",
       " 417,\n",
       " 418,\n",
       " 419,\n",
       " 420,\n",
       " 421,\n",
       " 422,\n",
       " 423,\n",
       " 424,\n",
       " 425,\n",
       " 426,\n",
       " 427,\n",
       " 428,\n",
       " 429,\n",
       " 430,\n",
       " 431,\n",
       " 432,\n",
       " 433,\n",
       " 434,\n",
       " 435,\n",
       " 436,\n",
       " 437,\n",
       " 438,\n",
       " 439,\n",
       " 440,\n",
       " 441,\n",
       " 442,\n",
       " 443,\n",
       " 444,\n",
       " 445,\n",
       " 446,\n",
       " 447,\n",
       " 448,\n",
       " 449,\n",
       " 450,\n",
       " 451,\n",
       " 452,\n",
       " 453,\n",
       " 454,\n",
       " 455,\n",
       " 456,\n",
       " 457,\n",
       " 458,\n",
       " 459,\n",
       " 460,\n",
       " 461,\n",
       " 462,\n",
       " 463,\n",
       " 464,\n",
       " 465,\n",
       " 466,\n",
       " 467,\n",
       " 468,\n",
       " 469,\n",
       " 470,\n",
       " 471,\n",
       " 472,\n",
       " 473,\n",
       " 474,\n",
       " 475,\n",
       " 476,\n",
       " 477,\n",
       " 478,\n",
       " 479,\n",
       " 480,\n",
       " 481,\n",
       " 482,\n",
       " 483,\n",
       " 484,\n",
       " 485,\n",
       " 486,\n",
       " 487,\n",
       " 488,\n",
       " 489,\n",
       " 490,\n",
       " 491,\n",
       " 492,\n",
       " 493,\n",
       " 494,\n",
       " 495,\n",
       " 496,\n",
       " 497,\n",
       " 498,\n",
       " 499,\n",
       " 500,\n",
       " 501,\n",
       " 502,\n",
       " 503,\n",
       " 504,\n",
       " 505,\n",
       " 506,\n",
       " 507,\n",
       " 508,\n",
       " 509,\n",
       " 510,\n",
       " 511,\n",
       " 512,\n",
       " 513,\n",
       " 514,\n",
       " 515,\n",
       " 516,\n",
       " 517,\n",
       " 518,\n",
       " 519,\n",
       " 520,\n",
       " 521,\n",
       " 522,\n",
       " 523,\n",
       " 524,\n",
       " 525,\n",
       " 526,\n",
       " 527,\n",
       " 528,\n",
       " 529,\n",
       " 530,\n",
       " 531,\n",
       " 532,\n",
       " 533,\n",
       " 534,\n",
       " 535,\n",
       " 536,\n",
       " 537,\n",
       " 538,\n",
       " 539,\n",
       " 540,\n",
       " 541,\n",
       " 542,\n",
       " 543,\n",
       " 544,\n",
       " 545,\n",
       " 546,\n",
       " 547,\n",
       " 548,\n",
       " 549,\n",
       " 550,\n",
       " 551,\n",
       " 552,\n",
       " 553,\n",
       " 554,\n",
       " 555,\n",
       " 556,\n",
       " 557,\n",
       " 558,\n",
       " 559,\n",
       " 560,\n",
       " 561,\n",
       " 562,\n",
       " 563,\n",
       " 564,\n",
       " 565,\n",
       " 566,\n",
       " 567,\n",
       " 568,\n",
       " 569,\n",
       " 570,\n",
       " 571,\n",
       " 572,\n",
       " 573,\n",
       " 574,\n",
       " 575,\n",
       " 576,\n",
       " 577,\n",
       " 578,\n",
       " 579,\n",
       " 580,\n",
       " 581,\n",
       " 582,\n",
       " 583,\n",
       " 584,\n",
       " 585,\n",
       " 586,\n",
       " 587,\n",
       " 588,\n",
       " 589,\n",
       " 590,\n",
       " 591,\n",
       " 592,\n",
       " 593,\n",
       " 594,\n",
       " 595,\n",
       " 596,\n",
       " 597,\n",
       " 598,\n",
       " 599,\n",
       " 600,\n",
       " 601,\n",
       " 602,\n",
       " 603,\n",
       " 604,\n",
       " 605,\n",
       " 606,\n",
       " 607,\n",
       " 608,\n",
       " 609,\n",
       " 610,\n",
       " 611,\n",
       " 612,\n",
       " 613,\n",
       " 614,\n",
       " 615,\n",
       " 616,\n",
       " 617,\n",
       " 618,\n",
       " 619,\n",
       " 620,\n",
       " 621,\n",
       " 622,\n",
       " 623,\n",
       " 624,\n",
       " 625,\n",
       " 626,\n",
       " 627,\n",
       " 628,\n",
       " 629,\n",
       " 630,\n",
       " 631,\n",
       " 632,\n",
       " 633,\n",
       " 634,\n",
       " 635,\n",
       " 636,\n",
       " 637,\n",
       " 638,\n",
       " 639,\n",
       " 640,\n",
       " 641,\n",
       " 642,\n",
       " 643,\n",
       " 644,\n",
       " 645,\n",
       " 646,\n",
       " 647,\n",
       " 648,\n",
       " 649,\n",
       " 650,\n",
       " 651,\n",
       " 652,\n",
       " 653,\n",
       " 654,\n",
       " 655,\n",
       " 656,\n",
       " 657,\n",
       " 658,\n",
       " 659,\n",
       " 660,\n",
       " 661,\n",
       " 662,\n",
       " 663,\n",
       " 664,\n",
       " 665,\n",
       " 666,\n",
       " 667,\n",
       " 668,\n",
       " 669,\n",
       " 670,\n",
       " 671,\n",
       " 672,\n",
       " 673,\n",
       " 674,\n",
       " 675,\n",
       " 676,\n",
       " 677,\n",
       " 678,\n",
       " 679,\n",
       " 680,\n",
       " 681,\n",
       " 682,\n",
       " 683,\n",
       " 684,\n",
       " 685,\n",
       " 686,\n",
       " 687,\n",
       " 688,\n",
       " 689,\n",
       " 690,\n",
       " 691,\n",
       " 692,\n",
       " 693,\n",
       " 694,\n",
       " 695,\n",
       " 696,\n",
       " 697,\n",
       " 698,\n",
       " 699,\n",
       " 700,\n",
       " 701,\n",
       " 702,\n",
       " 703,\n",
       " 704,\n",
       " 705,\n",
       " 706,\n",
       " 707,\n",
       " 708,\n",
       " 709,\n",
       " 710,\n",
       " 711,\n",
       " 712,\n",
       " 713,\n",
       " 714,\n",
       " 715,\n",
       " 716,\n",
       " 717,\n",
       " 718,\n",
       " 719,\n",
       " 720,\n",
       " 721,\n",
       " 722,\n",
       " 723,\n",
       " 724,\n",
       " 725,\n",
       " 726,\n",
       " 727,\n",
       " 728,\n",
       " 729,\n",
       " 730,\n",
       " 731,\n",
       " 732,\n",
       " 733,\n",
       " 734,\n",
       " 735,\n",
       " 736,\n",
       " 737,\n",
       " 738,\n",
       " 739,\n",
       " 740,\n",
       " 741,\n",
       " 742,\n",
       " 743,\n",
       " 744,\n",
       " 745,\n",
       " 746,\n",
       " 747,\n",
       " 748,\n",
       " 749,\n",
       " 750,\n",
       " 751,\n",
       " 752,\n",
       " 753,\n",
       " 754,\n",
       " 755,\n",
       " 756,\n",
       " 757,\n",
       " 758,\n",
       " 759,\n",
       " 760,\n",
       " 761,\n",
       " 762,\n",
       " 763,\n",
       " 764,\n",
       " 765,\n",
       " 766,\n",
       " 767,\n",
       " 768,\n",
       " 769,\n",
       " 770,\n",
       " 771,\n",
       " 772,\n",
       " 773,\n",
       " 774,\n",
       " 775,\n",
       " 776,\n",
       " 777,\n",
       " 778,\n",
       " 779,\n",
       " 780,\n",
       " 781,\n",
       " 782,\n",
       " 783,\n",
       " 784,\n",
       " 785,\n",
       " 786,\n",
       " 787,\n",
       " 788,\n",
       " 789,\n",
       " 790,\n",
       " 791,\n",
       " 792,\n",
       " 793,\n",
       " 794,\n",
       " 795,\n",
       " 796,\n",
       " 797,\n",
       " 798,\n",
       " 799,\n",
       " 800,\n",
       " 801,\n",
       " 802,\n",
       " 803,\n",
       " 804,\n",
       " 805,\n",
       " 806,\n",
       " 807,\n",
       " 808,\n",
       " 809,\n",
       " 810,\n",
       " 811,\n",
       " 812,\n",
       " 813,\n",
       " 814,\n",
       " 815,\n",
       " 816,\n",
       " 817,\n",
       " 818,\n",
       " 819,\n",
       " 820,\n",
       " 821,\n",
       " 822,\n",
       " 823,\n",
       " 824,\n",
       " 825,\n",
       " 826,\n",
       " 827,\n",
       " 828,\n",
       " 829,\n",
       " 830,\n",
       " 831,\n",
       " 832,\n",
       " 833,\n",
       " 834,\n",
       " 835,\n",
       " 836,\n",
       " 837,\n",
       " 838,\n",
       " 839,\n",
       " 840,\n",
       " 841,\n",
       " 842,\n",
       " 843,\n",
       " 844,\n",
       " 845,\n",
       " 846,\n",
       " 847,\n",
       " 848,\n",
       " 849,\n",
       " 850,\n",
       " 851,\n",
       " 852,\n",
       " 853,\n",
       " 854,\n",
       " 855,\n",
       " 856,\n",
       " 857,\n",
       " 858,\n",
       " 859,\n",
       " 860,\n",
       " 861,\n",
       " 862,\n",
       " 863,\n",
       " 864,\n",
       " 865,\n",
       " 866,\n",
       " 867,\n",
       " 868,\n",
       " 869,\n",
       " 870,\n",
       " 871,\n",
       " 872,\n",
       " 873,\n",
       " 874,\n",
       " 875,\n",
       " 876,\n",
       " 877,\n",
       " 878,\n",
       " 879,\n",
       " 880,\n",
       " 881,\n",
       " 882,\n",
       " 883,\n",
       " 884,\n",
       " 885,\n",
       " 886,\n",
       " 887,\n",
       " 888,\n",
       " 889,\n",
       " 890,\n",
       " 891,\n",
       " 892,\n",
       " 893,\n",
       " 894,\n",
       " 895,\n",
       " 896,\n",
       " 897,\n",
       " 898,\n",
       " 899,\n",
       " 900,\n",
       " 901,\n",
       " 902,\n",
       " 903,\n",
       " 904,\n",
       " 905,\n",
       " 906,\n",
       " 907,\n",
       " 908,\n",
       " 909,\n",
       " 910,\n",
       " 911,\n",
       " 912,\n",
       " 913,\n",
       " 914,\n",
       " 915,\n",
       " 916,\n",
       " 917,\n",
       " 918,\n",
       " 919,\n",
       " 920,\n",
       " 921,\n",
       " 922,\n",
       " 923,\n",
       " 924,\n",
       " 925,\n",
       " 926,\n",
       " 927,\n",
       " 928,\n",
       " 929,\n",
       " 930,\n",
       " 931,\n",
       " 932,\n",
       " 933,\n",
       " 934,\n",
       " 935,\n",
       " 936,\n",
       " 937,\n",
       " 938,\n",
       " 939,\n",
       " 940,\n",
       " 941,\n",
       " 942,\n",
       " 943,\n",
       " 944,\n",
       " 945,\n",
       " 946,\n",
       " 947,\n",
       " 948,\n",
       " 949,\n",
       " 950,\n",
       " 951,\n",
       " 952,\n",
       " 953,\n",
       " 954,\n",
       " 955,\n",
       " 956,\n",
       " 957,\n",
       " 958,\n",
       " 959,\n",
       " 960,\n",
       " 961,\n",
       " 962,\n",
       " 963,\n",
       " 964,\n",
       " 965,\n",
       " 966,\n",
       " 967,\n",
       " 968,\n",
       " 969,\n",
       " 970,\n",
       " 971,\n",
       " 972,\n",
       " 973,\n",
       " 974,\n",
       " 975,\n",
       " 976,\n",
       " 977,\n",
       " 978,\n",
       " 979,\n",
       " 980,\n",
       " 981,\n",
       " 982,\n",
       " 983,\n",
       " 984,\n",
       " 985,\n",
       " 986,\n",
       " 987,\n",
       " 988,\n",
       " 989,\n",
       " 990,\n",
       " 991,\n",
       " 992,\n",
       " 993,\n",
       " 994,\n",
       " 995,\n",
       " 996,\n",
       " 997,\n",
       " 998,\n",
       " 999,\n",
       " ...]"
      ]
     },
     "execution_count": 11,
     "metadata": {},
     "output_type": "execute_result"
    }
   ],
   "source": [
    "f = list(dfd['bank_branch_count_8w'].unique())\n",
    "f.sort()\n",
    "f"
   ]
  },
  {
   "cell_type": "code",
   "execution_count": 13,
   "id": "93f55060",
   "metadata": {},
   "outputs": [],
   "source": [
    "ones = []\n",
    "zeroes = []\n",
    "f = list(dfd['bank_branch_count_8w'].unique())\n",
    "f.sort()\n",
    "\n",
    "for i in f:\n",
    "    zeroes.append(len(dfd[(dfd['bank_branch_count_8w']==i) & (dfd['fraud_bool']==0)]))\n",
    "    ones.append(len(dfd[(dfd['bank_branch_count_8w']==i) & (dfd['fraud_bool']==1)]))"
   ]
  },
  {
   "cell_type": "code",
   "execution_count": 14,
   "id": "b678f39c",
   "metadata": {},
   "outputs": [
    {
     "data": {
      "text/plain": [
       "[<matplotlib.lines.Line2D at 0x7fc030f47fa0>]"
      ]
     },
     "execution_count": 14,
     "metadata": {},
     "output_type": "execute_result"
    },
    {
     "data": {
      "image/png": "[encoded data removed]",
      "text/plain": [
       "<Figure size 432x288 with 1 Axes>"
      ]
     },
     "metadata": {
      "needs_background": "light"
     },
     "output_type": "display_data"
    }
   ],
   "source": [
    "plt.plot(f, ones)"
   ]
  },
  {
   "cell_type": "code",
   "execution_count": 15,
   "id": "ef4f1fac",
   "metadata": {},
   "outputs": [
    {
     "data": {
      "text/plain": [
       "[<matplotlib.lines.Line2D at 0x7fc030e3fc10>]"
      ]
     },
     "execution_count": 15,
     "metadata": {},
     "output_type": "execute_result"
    },
    {
     "data": {
      "image/png": "[encoded data removed]",
      "text/plain": [
       "<Figure size 432x288 with 1 Axes>"
      ]
     },
     "metadata": {
      "needs_background": "light"
     },
     "output_type": "display_data"
    }
   ],
   "source": [
    "plt.plot(f, zeroes)"
   ]
  },
  {
   "cell_type": "code",
   "execution_count": 10,
   "id": "b356d7fb",
   "metadata": {},
   "outputs": [
    {
     "data": {
      "text/plain": [
       "11899"
      ]
     },
     "execution_count": 10,
     "metadata": {},
     "output_type": "execute_result"
    }
   ],
   "source": [
    "#len(dfd[(dfd['bank_branch_count_8w']==0) & (dfd['fraud_bool']==1)])"
   ]
  },
  {
   "cell_type": "code",
   "execution_count": 16,
   "id": "842b1463",
   "metadata": {},
   "outputs": [],
   "source": [
    "bins = [-1, 10, 100, 5000]\n",
    "group_names = [1,2,3]\n",
    "dfd['bank_branch_count_8w'] = pd.cut(dfd['bank_branch_count_8w'], bins, labels=group_names)"
   ]
  },
  {
   "cell_type": "code",
   "execution_count": 24,
   "id": "4aa866cb",
   "metadata": {},
   "outputs": [
    {
     "data": {
      "text/plain": [
       "[1, 3, 2]\n",
       "Categories (3, int64): [1 < 2 < 3]"
      ]
     },
     "execution_count": 24,
     "metadata": {},
     "output_type": "execute_result"
    }
   ],
   "source": [
    "dfd['bank_branch_count_8w'].unique()"
   ]
  },
  {
   "cell_type": "markdown",
   "id": "6c74c036",
   "metadata": {},
   "source": [
    "# Binning for prev_address_months_count"
   ]
  },
  {
   "cell_type": "code",
   "execution_count": 19,
   "id": "a4869eaa",
   "metadata": {},
   "outputs": [
    {
     "data": {
      "text/plain": [
       "array([ -1,  92, 172,  28, 289,  35,  55, 194, 103,  27,  34,  58,  61,\n",
       "        12,  57,  53,  96,  30, 111,  26,  86,  64,  18, 234,  97,  56,\n",
       "        54, 125, 110,  65, 217,  93, 126,  25,  33,  80,  99,  45, 104,\n",
       "        87,  49,  62, 282, 101, 135, 154,  36,  14,  91,  83,  10,  32,\n",
       "        51, 325, 333, 159,  11, 318, 109, 152, 288, 102, 336, 202, 225,\n",
       "       118, 115, 319, 201,  47,  37, 241,  60,  13, 165,  66,  94,  95,\n",
       "        98,  59,  29,  89,  16, 304, 211, 314,  22,  31,  63, 321, 141,\n",
       "       112,  52, 151, 142,   9,  50, 173,  90, 307, 106,  78,  24, 195,\n",
       "       310,   8, 146, 284,  85,  44, 160,  23, 100,  38,  48, 327, 140,\n",
       "       105, 122,  67, 127,  21, 119,   7, 156, 179,  88, 107,  82,  42,\n",
       "       145, 324,  39, 306, 339, 209, 294,  72,  79, 246, 114,  84, 137,\n",
       "        46, 188, 220, 139,  74, 312, 239,  75,  20, 161, 168, 290,  68,\n",
       "       187, 303, 116, 230, 297,  77, 203, 181, 177,  41, 291, 123, 124,\n",
       "       108, 295, 308, 133, 183, 278,  43, 121, 130, 328, 113, 189, 300,\n",
       "       222, 199,  70, 196, 216, 355,  15,  81, 315, 117, 131, 298, 157,\n",
       "        76,  40, 213, 338, 237, 164, 178, 320, 252, 192, 197, 148, 132,\n",
       "       138, 208, 285, 311, 134, 153, 171, 190, 166, 193, 120, 309, 316,\n",
       "       305, 231, 253, 155, 280, 235, 287, 347, 205,  71,  19, 273, 232,\n",
       "       343, 301, 144, 191, 143, 335, 221, 174, 326, 262, 329, 332, 215,\n",
       "       170, 342, 331, 150, 228, 218, 149, 182, 323, 286, 313, 163, 185,\n",
       "       206, 147, 341, 247, 351, 243, 344, 223, 128, 251, 352, 219, 269,\n",
       "       180, 175, 184, 236, 158, 176,  69, 226, 238, 317, 322, 129, 136,\n",
       "       293, 296, 210, 302, 245, 162, 345, 244, 279, 264, 227, 167, 353,\n",
       "       330, 186, 334,  73, 265, 275, 169, 276, 260, 363, 242, 299, 250,\n",
       "       198, 256, 229, 212, 224, 254, 274,  17, 340, 233, 292,   6, 346,\n",
       "       267, 207, 371, 350, 240, 358, 200, 272, 361, 277, 214, 283, 357,\n",
       "       266, 248, 348, 204, 257, 337, 281, 362, 377, 364, 354, 261, 263,\n",
       "       258, 349, 249, 381, 359, 255, 268, 271, 259, 270, 356, 374,   5,\n",
       "       360, 366, 365, 372, 367, 369, 375, 383, 370, 373])"
      ]
     },
     "execution_count": 19,
     "metadata": {},
     "output_type": "execute_result"
    }
   ],
   "source": [
    "dfd['prev_address_months_count'].unique()"
   ]
  },
  {
   "cell_type": "code",
   "execution_count": 25,
   "id": "5bbf8bfc",
   "metadata": {},
   "outputs": [],
   "source": [
    "ones = []\n",
    "zeroes = []\n",
    "f = list(dfd['prev_address_months_count'].unique())\n",
    "f.sort()\n",
    "\n",
    "for i in f:\n",
    "    zeroes.append(len(dfd[(dfd['prev_address_months_count']==i) & (dfd['fraud_bool']==0)]))\n",
    "    ones.append(len(dfd[(dfd['prev_address_months_count']==i) & (dfd['fraud_bool']==1)]))"
   ]
  },
  {
   "cell_type": "code",
   "execution_count": 29,
   "id": "af905fbd",
   "metadata": {},
   "outputs": [
    {
     "data": {
      "text/plain": [
       "[<matplotlib.lines.Line2D at 0x7fc031aa09a0>]"
      ]
     },
     "execution_count": 29,
     "metadata": {},
     "output_type": "execute_result"
    },
    {
     "data": {
      "image/png": "[encoded data removed]",
      "text/plain": [
       "<Figure size 432x288 with 1 Axes>"
      ]
     },
     "metadata": {
      "needs_background": "light"
     },
     "output_type": "display_data"
    }
   ],
   "source": [
    "plt.plot(f[1:], ones[1:])"
   ]
  },
  {
   "cell_type": "code",
   "execution_count": 30,
   "id": "929f2ad7",
   "metadata": {},
   "outputs": [
    {
     "data": {
      "text/plain": [
       "[<matplotlib.lines.Line2D at 0x7fc031b79bb0>]"
      ]
     },
     "execution_count": 30,
     "metadata": {},
     "output_type": "execute_result"
    },
    {
     "data": {
      "image/png": "[encoded data removed]",
      "text/plain": [
       "<Figure size 432x288 with 1 Axes>"
      ]
     },
     "metadata": {
      "needs_background": "light"
     },
     "output_type": "display_data"
    }
   ],
   "source": [
    "plt.plot(f[1:], zeroes[1:])"
   ]
  },
  {
   "cell_type": "code",
   "execution_count": 33,
   "id": "9d197ab5",
   "metadata": {},
   "outputs": [],
   "source": [
    "bins = [-2, 25, 50, 120, 200, 5000]\n",
    "group_names = [1,2,3,4,5]\n",
    "dfd['prev_address_months_count'] = pd.cut(dfd['prev_address_months_count'], bins, labels=group_names)"
   ]
  },
  {
   "cell_type": "code",
   "execution_count": 34,
   "id": "b9906a47",
   "metadata": {},
   "outputs": [
    {
     "data": {
      "text/plain": [
       "[1, 3, 4, 2, 5]\n",
       "Categories (5, int64): [1 < 2 < 3 < 4 < 5]"
      ]
     },
     "execution_count": 34,
     "metadata": {},
     "output_type": "execute_result"
    }
   ],
   "source": [
    "dfd['prev_address_months_count'].unique()"
   ]
  },
  {
   "cell_type": "markdown",
   "id": "6f53236f",
   "metadata": {},
   "source": [
    "# Binning for current_address_months_count\n"
   ]
  },
  {
   "cell_type": "code",
   "execution_count": 35,
   "id": "939db943",
   "metadata": {},
   "outputs": [
    {
     "data": {
      "text/plain": [
       "array([ 88, 144, 132,  22, 218,  30, 152,  18,  64,  60, 131, 109, 107,\n",
       "       123,  37,  55, 173,  50,  94, 153,  82,   9,  19, 184,  56,   5,\n",
       "        90,  78,   3, 162,  34, 112,  23,  99,  44,  51, 140,  62,  98,\n",
       "       135, 209,  72, 229, 185,  14,  71, 239, 183,  16, 141, 186,  26,\n",
       "        63, 142,  80, 199, 119,   8,   2, 118, 272, 306, 216, 212,  48,\n",
       "       151, 189, 117, 124, 203, 130,  29, 176, 120,  57, 104, 247, 143,\n",
       "       128, 149,   0, 122, 129, 360, 106, 170, 101,  15,  74, 220, 363,\n",
       "       236, 159,  69,  93,  27,  12, 356, 146,   6,  36,  32,  83, 273,\n",
       "       155,  45, 349,  41,  17, 361, 188,  79,  -1, 171, 111, 138,  68,\n",
       "       169, 175,  47,  39, 160, 113,  13,   7, 270,  25, 274, 296, 377,\n",
       "        38,  35,  54,  89, 105,  11, 156, 167,  33, 194, 290, 145,  31,\n",
       "       381, 215,  43, 136,  61, 178,  42,  85,  84,  58,  49, 102,  76,\n",
       "       103, 177,   1,  73, 126,  70, 139, 181, 250, 366, 125, 121, 137,\n",
       "       147,  66, 154, 328,  52, 232, 295, 100,  87, 257,  65, 320, 180,\n",
       "         4, 164, 249,  20,  67,  40, 114, 193, 278, 150, 195,  81,  77,\n",
       "       127, 248, 225, 244, 242, 297,  97,  95, 224, 148,  24, 234, 227,\n",
       "       222, 158, 190,  86,  91, 172,  96,  59, 198, 182,  46, 217, 174,\n",
       "        75, 165, 108, 133, 204, 134, 219, 321, 206,  53,  10, 163, 316,\n",
       "       240, 291, 214, 317, 230, 255, 243, 157, 197,  28, 233, 116, 110,\n",
       "       246, 277,  92, 115, 208, 281, 301, 251, 282, 372, 357, 191, 289,\n",
       "       269, 373, 205, 376, 207, 298, 354, 369, 370, 285, 374, 166, 238,\n",
       "       161, 201, 241, 228, 358, 362, 283, 235, 231, 200, 179, 265, 384,\n",
       "       304, 338,  21, 226, 254, 293, 310, 262, 340, 192, 347, 319, 309,\n",
       "       353, 202, 331, 302, 288, 280, 367, 333, 352, 387, 196, 276, 322,\n",
       "       187, 213, 268, 266, 223, 210, 284, 267, 256, 371, 311, 313, 275,\n",
       "       299, 359, 271, 279, 253, 308, 245, 334, 211, 312, 221, 258, 382,\n",
       "       260, 259, 346, 261, 237, 326, 368, 168, 364, 263, 303, 292, 307,\n",
       "       264, 375, 337, 343, 365, 252, 315, 287, 329, 355, 342, 314, 325,\n",
       "       300, 380, 345, 324, 294, 344, 335, 383, 327, 336, 323, 318, 351,\n",
       "       379, 286, 339, 378, 305, 350, 389, 330, 332, 348, 341, 385, 399,\n",
       "       398, 386, 388, 391, 390, 425, 407, 392, 393, 395, 410, 394, 397,\n",
       "       396, 401, 412, 404, 402, 400, 417, 424, 406, 408, 418, 419, 403,\n",
       "       411, 405, 428, 416, 413, 414, 409])"
      ]
     },
     "execution_count": 35,
     "metadata": {},
     "output_type": "execute_result"
    }
   ],
   "source": [
    "dfd['current_address_months_count'].unique()"
   ]
  },
  {
   "cell_type": "code",
   "execution_count": 36,
   "id": "5391dad8",
   "metadata": {},
   "outputs": [],
   "source": [
    "ones = []\n",
    "zeroes = []\n",
    "f = list(dfd['current_address_months_count'].unique())\n",
    "f.sort()\n",
    "\n",
    "for i in f:\n",
    "    zeroes.append(len(dfd[(dfd['current_address_months_count']==i) & (dfd['fraud_bool']==0)]))\n",
    "    ones.append(len(dfd[(dfd['current_address_months_count']==i) & (dfd['fraud_bool']==1)]))"
   ]
  },
  {
   "cell_type": "code",
   "execution_count": 38,
   "id": "0f613e26",
   "metadata": {},
   "outputs": [
    {
     "data": {
      "text/plain": [
       "[<matplotlib.lines.Line2D at 0x7fc031f41bb0>]"
      ]
     },
     "execution_count": 38,
     "metadata": {},
     "output_type": "execute_result"
    },
    {
     "data": {
      "image/png": "[encoded data removed]",
      "text/plain": [
       "<Figure size 432x288 with 1 Axes>"
      ]
     },
     "metadata": {
      "needs_background": "light"
     },
     "output_type": "display_data"
    }
   ],
   "source": [
    "plt.plot(f, ones)"
   ]
  },
  {
   "cell_type": "code",
   "execution_count": 39,
   "id": "b71c1771",
   "metadata": {},
   "outputs": [
    {
     "data": {
      "text/plain": [
       "[<matplotlib.lines.Line2D at 0x7fc0320b6d00>]"
      ]
     },
     "execution_count": 39,
     "metadata": {},
     "output_type": "execute_result"
    },
    {
     "data": {
      "image/png": "[encoded data removed]",
      "text/plain": [
       "<Figure size 432x288 with 1 Axes>"
      ]
     },
     "metadata": {
      "needs_background": "light"
     },
     "output_type": "display_data"
    }
   ],
   "source": [
    "plt.plot(f, zeroes)"
   ]
  },
  {
   "cell_type": "code",
   "execution_count": 40,
   "id": "98e962fd",
   "metadata": {},
   "outputs": [],
   "source": [
    "bins = [-2, 25, 100, 200, 350, 5000]\n",
    "group_names = [1,2,3,4,5]\n",
    "dfd['current_address_months_count'] = pd.cut(dfd['current_address_months_count'], bins, labels=group_names)"
   ]
  },
  {
   "cell_type": "code",
   "execution_count": 41,
   "id": "b094517c",
   "metadata": {},
   "outputs": [
    {
     "data": {
      "text/plain": [
       "[2, 3, 1, 4, 5]\n",
       "Categories (5, int64): [1 < 2 < 3 < 4 < 5]"
      ]
     },
     "execution_count": 41,
     "metadata": {},
     "output_type": "execute_result"
    }
   ],
   "source": [
    "dfd['current_address_months_count'].unique()"
   ]
  },
  {
   "cell_type": "code",
   "execution_count": null,
   "id": "2ba23942",
   "metadata": {},
   "outputs": [],
   "source": []
  },
  {
   "cell_type": "markdown",
   "id": "1a28e258",
   "metadata": {},
   "source": [
    "# One Hot Encoding"
   ]
  },
  {
   "cell_type": "code",
   "execution_count": 42,
   "id": "0d7731dd",
   "metadata": {},
   "outputs": [],
   "source": [
    "df_ohe = pd.get_dummies(\n",
    "    dfd, prefix=None, prefix_sep='_', dummy_na=False, columns=None, sparse=False, drop_first=True, dtype=None\n",
    ")\n",
    "\n",
    "# df_ohe.to_csv('new_output_ohe.csv', index = False)\n",
    "# dfd.to_csv('new_output.csv', index = False)"
   ]
  },
  {
   "cell_type": "code",
   "execution_count": 45,
   "id": "70cac61f",
   "metadata": {},
   "outputs": [
    {
     "data": {
      "text/plain": [
       "Index(['fraud_bool', 'income', 'name_email_similarity', 'customer_age',\n",
       "       'intended_balcon_amount', 'date_of_birth_distinct_emails_4w',\n",
       "       'credit_risk_score', 'email_is_free', 'phone_home_valid',\n",
       "       'phone_mobile_valid', 'bank_months_count', 'has_other_cards',\n",
       "       'proposed_credit_limit', 'foreign_request', 'session_length_in_minutes',\n",
       "       'keep_alive_session', 'device_distinct_emails_8w',\n",
       "       'prev_address_months_count_2', 'prev_address_months_count_3',\n",
       "       'prev_address_months_count_4', 'prev_address_months_count_5',\n",
       "       'current_address_months_count_2', 'current_address_months_count_3',\n",
       "       'current_address_months_count_4', 'current_address_months_count_5',\n",
       "       'payment_type_AB', 'payment_type_AC', 'payment_type_AD',\n",
       "       'payment_type_AE', 'bank_branch_count_8w_2', 'bank_branch_count_8w_3',\n",
       "       'employment_status_CB', 'employment_status_CC', 'employment_status_CD',\n",
       "       'employment_status_CE', 'employment_status_CF', 'employment_status_CG',\n",
       "       'housing_status_BB', 'housing_status_BC', 'housing_status_BD',\n",
       "       'housing_status_BE', 'housing_status_BF', 'housing_status_BG',\n",
       "       'source_TELEAPP', 'device_os_macintosh', 'device_os_other',\n",
       "       'device_os_windows', 'device_os_x11'],\n",
       "      dtype='object')"
      ]
     },
     "execution_count": 45,
     "metadata": {},
     "output_type": "execute_result"
    }
   ],
   "source": [
    "df_ohe.columns"
   ]
  },
  {
   "cell_type": "code",
   "execution_count": null,
   "id": "12ad79c6",
   "metadata": {},
   "outputs": [],
   "source": []
  },
  {
   "cell_type": "code",
   "execution_count": 43,
   "id": "b7e89dfa",
   "metadata": {},
   "outputs": [
    {
     "data": {
      "image/png": "[encoded data removed]",
      "text/plain": [
       "<Figure size 720x432 with 1 Axes>"
      ]
     },
     "metadata": {
      "needs_background": "light"
     },
     "output_type": "display_data"
    }
   ],
   "source": [
    "cross_tab_prop = pd.crosstab(index=dfd['fraud_bool'],\n",
    "                             columns=dfd['source'],\n",
    "                             normalize=\"index\")\n",
    "\n",
    "cross_tab_prop.plot(kind='bar', \n",
    "                    stacked=True, \n",
    "                    figsize=(10, 6))\n",
    "\n",
    "plt.legend(loc=\"lower left\", ncol=2)\n",
    "plt.xlabel(\"Release Year\")\n",
    "plt.ylabel(\"Proportion\")\n",
    "plt.show()"
   ]
  },
  {
   "cell_type": "code",
   "execution_count": 44,
   "id": "1bbede22",
   "metadata": {},
   "outputs": [
    {
     "data": {
      "image/png": "[encoded data removed]",
      "text/plain": [
       "<Figure size 720x432 with 1 Axes>"
      ]
     },
     "metadata": {
      "needs_background": "light"
     },
     "output_type": "display_data"
    }
   ],
   "source": [
    "cross_tab_prop = pd.crosstab(index=dfd['fraud_bool'],\n",
    "                             columns=dfd['device_os'],\n",
    "                             normalize=\"index\")\n",
    "\n",
    "cross_tab_prop.plot(kind='bar', \n",
    "                    stacked=True, \n",
    "                    figsize=(10, 6))\n",
    "\n",
    "plt.legend(loc=\"lower left\", ncol=2)\n",
    "plt.xlabel(\"Release Year\")\n",
    "plt.ylabel(\"Proportion\")\n",
    "plt.show()"
   ]
  },
  {
   "cell_type": "code",
   "execution_count": 45,
   "id": "7cf4a89f",
   "metadata": {},
   "outputs": [
    {
     "data": {
      "image/png": "[encoded data removed]",
      "text/plain": [
       "<Figure size 720x432 with 1 Axes>"
      ]
     },
     "metadata": {
      "needs_background": "light"
     },
     "output_type": "display_data"
    }
   ],
   "source": [
    "cross_tab_prop = pd.crosstab(index=dfd['fraud_bool'],\n",
    "                             columns=dfd['phone_home_valid'],\n",
    "                             normalize=\"index\")\n",
    "\n",
    "cross_tab_prop.plot(kind='bar', \n",
    "                    stacked=True, \n",
    "                    figsize=(10, 6))\n",
    "\n",
    "plt.legend(loc=\"lower left\", ncol=2)\n",
    "plt.xlabel(\"Release Year\")\n",
    "plt.ylabel(\"Proportion\")\n",
    "plt.show()"
   ]
  },
  {
   "cell_type": "code",
   "execution_count": 46,
   "id": "47e65e22",
   "metadata": {},
   "outputs": [
    {
     "data": {
      "image/png": "[encoded data removed]",
      "text/plain": [
       "<Figure size 720x432 with 1 Axes>"
      ]
     },
     "metadata": {
      "needs_background": "light"
     },
     "output_type": "display_data"
    }
   ],
   "source": [
    "cross_tab_prop = pd.crosstab(index=dfd['fraud_bool'],\n",
    "                             columns=dfd['phone_mobile_valid'],\n",
    "                             normalize=\"index\")\n",
    "\n",
    "cross_tab_prop.plot(kind='bar', \n",
    "                    stacked=True, \n",
    "                    figsize=(10, 6))\n",
    "\n",
    "plt.legend(loc=\"lower left\", ncol=2)\n",
    "plt.xlabel(\"Release Year\")\n",
    "plt.ylabel(\"Proportion\")\n",
    "plt.show()"
   ]
  },
  {
   "cell_type": "code",
   "execution_count": 47,
   "id": "f4d94fbd",
   "metadata": {},
   "outputs": [
    {
     "data": {
      "image/png": "[encoded data removed]",
      "text/plain": [
       "<Figure size 720x432 with 1 Axes>"
      ]
     },
     "metadata": {
      "needs_background": "light"
     },
     "output_type": "display_data"
    }
   ],
   "source": [
    "cross_tab_prop = pd.crosstab(index=dfd['fraud_bool'],\n",
    "                             columns=dfd['income'],\n",
    "                             normalize=\"index\")\n",
    "\n",
    "cross_tab_prop.plot(kind='bar', \n",
    "                    stacked=True, \n",
    "                    figsize=(10, 6))\n",
    "\n",
    "plt.legend(loc=\"lower left\", ncol=2)\n",
    "plt.xlabel(\"Release Year\")\n",
    "plt.ylabel(\"Proportion\")\n",
    "plt.show()"
   ]
  },
  {
   "cell_type": "code",
   "execution_count": 281,
   "id": "f15e8727",
   "metadata": {},
   "outputs": [
    {
     "data": {
      "image/png": "[encoded data removed]",
      "text/plain": [
       "<Figure size 720x432 with 1 Axes>"
      ]
     },
     "metadata": {
      "needs_background": "light"
     },
     "output_type": "display_data"
    }
   ],
   "source": [
    "    cross_tab_prop = pd.crosstab(index=dfd['fraud_bool'],\n",
    "                                 columns=dfd['customer_age'],\n",
    "                             normalize=\"index\")\n",
    "\n",
    "cross_tab_prop.plot(kind='bar', \n",
    "                    stacked=True, \n",
    "                    figsize=(10, 6))\n",
    "\n",
    "plt.legend(loc=\"lower left\", ncol=2)\n",
    "plt.xlabel(\"Release Year\")\n",
    "plt.ylabel(\"Proportion\")\n",
    "plt.show()"
   ]
  },
  {
   "cell_type": "code",
   "execution_count": 239,
   "id": "e0b1258f",
   "metadata": {},
   "outputs": [
    {
     "data": {
      "image/png": "[encoded data removed]",
      "text/plain": [
       "<Figure size 720x432 with 1 Axes>"
      ]
     },
     "metadata": {
      "needs_background": "light"
     },
     "output_type": "display_data"
    }
   ],
   "source": [
    "cross_tab_prop = pd.crosstab(index=df_final['fraud_bool'],\n",
    "                             columns=df_final['email_is_free'],\n",
    "                             normalize=\"index\")\n",
    "\n",
    "cross_tab_prop.plot(kind='bar', \n",
    "                    stacked=True, \n",
    "                    figsize=(10, 6))\n",
    "\n",
    "plt.legend(loc=\"lower left\", ncol=2)\n",
    "plt.xlabel(\"Release Year\")\n",
    "plt.ylabel(\"Proportion\")\n",
    "plt.show()"
   ]
  },
  {
   "cell_type": "code",
   "execution_count": 243,
   "id": "4266e7c2",
   "metadata": {},
   "outputs": [
    {
     "data": {
      "image/png": "[encoded data removed]",
      "text/plain": [
       "<Figure size 720x432 with 1 Axes>"
      ]
     },
     "metadata": {
      "needs_background": "light"
     },
     "output_type": "display_data"
    }
   ],
   "source": [
    "cross_tab_prop = pd.crosstab(index=df_final['fraud_bool'],\n",
    "                             columns=df_final['has_other_cards'],\n",
    "                             normalize=\"index\")\n",
    "\n",
    "cross_tab_prop.plot(kind='bar', \n",
    "                    stacked=True, \n",
    "                    figsize=(10, 6))\n",
    "\n",
    "plt.legend(loc=\"lower left\", ncol=2)\n",
    "plt.xlabel(\"Release Year\")\n",
    "plt.ylabel(\"Proportion\")\n",
    "plt.show()"
   ]
  },
  {
   "cell_type": "code",
   "execution_count": 51,
   "id": "d980a319",
   "metadata": {},
   "outputs": [
    {
     "data": {
      "image/png": "[encoded data removed]",
      "text/plain": [
       "<Figure size 720x432 with 1 Axes>"
      ]
     },
     "metadata": {
      "needs_background": "light"
     },
     "output_type": "display_data"
    }
   ],
   "source": [
    "cross_tab_prop = pd.crosstab(index=dfd['fraud_bool'],\n",
    "                             columns=dfd['foreign_request'],\n",
    "                             normalize=\"index\")\n",
    "\n",
    "cross_tab_prop.plot(kind='bar', \n",
    "                    stacked=True, \n",
    "                    figsize=(10, 6))\n",
    "\n",
    "plt.legend(loc=\"lower left\", ncol=2)\n",
    "plt.xlabel(\"Release Year\")\n",
    "plt.ylabel(\"Proportion\")\n",
    "plt.show()"
   ]
  },
  {
   "cell_type": "code",
   "execution_count": 52,
   "id": "ce2e3ab7",
   "metadata": {},
   "outputs": [
    {
     "data": {
      "image/png": "[encoded data removed]",
      "text/plain": [
       "<Figure size 720x432 with 1 Axes>"
      ]
     },
     "metadata": {
      "needs_background": "light"
     },
     "output_type": "display_data"
    }
   ],
   "source": [
    "cross_tab_prop = pd.crosstab(index=dfd['fraud_bool'],\n",
    "                             columns=dfd['employment_status'],\n",
    "                             normalize=\"index\")\n",
    "\n",
    "cross_tab_prop.plot(kind='bar', \n",
    "                    stacked=True, \n",
    "                    figsize=(10, 6))\n",
    "\n",
    "plt.legend(loc=\"lower left\", ncol=2)\n",
    "plt.xlabel(\"Release Year\")\n",
    "plt.ylabel(\"Proportion\")\n",
    "plt.show()"
   ]
  },
  {
   "cell_type": "code",
   "execution_count": 53,
   "id": "2f7ac60b",
   "metadata": {},
   "outputs": [
    {
     "data": {
      "image/png": "[encoded data removed]",
      "text/plain": [
       "<Figure size 720x432 with 1 Axes>"
      ]
     },
     "metadata": {
      "needs_background": "light"
     },
     "output_type": "display_data"
    }
   ],
   "source": [
    "cross_tab_prop = pd.crosstab(index=dfd['fraud_bool'],\n",
    "                             columns=dfd['housing_status'],\n",
    "                             normalize=\"index\")\n",
    "\n",
    "cross_tab_prop.plot(kind='bar', \n",
    "                    stacked=True, \n",
    "                    figsize=(10, 6))\n",
    "\n",
    "plt.legend(loc=\"lower left\", ncol=2)\n",
    "plt.xlabel(\"Release Year\")\n",
    "plt.ylabel(\"Proportion\")\n",
    "plt.show()"
   ]
  },
  {
   "cell_type": "code",
   "execution_count": 54,
   "id": "d465fb62",
   "metadata": {},
   "outputs": [
    {
     "data": {
      "image/png": "[encoded data removed]",
      "text/plain": [
       "<Figure size 720x432 with 1 Axes>"
      ]
     },
     "metadata": {
      "needs_background": "light"
     },
     "output_type": "display_data"
    }
   ],
   "source": [
    "cross_tab_prop = pd.crosstab(index=dfd['fraud_bool'],\n",
    "                             columns=dfd['payment_type'],\n",
    "                             normalize=\"index\")\n",
    "\n",
    "cross_tab_prop.plot(kind='bar', \n",
    "                    stacked=True, \n",
    "                    figsize=(10, 6))\n",
    "\n",
    "plt.legend(loc=\"lower left\", ncol=2)\n",
    "plt.xlabel(\"Release Year\")\n",
    "plt.ylabel(\"Proportion\")\n",
    "plt.show()"
   ]
  },
  {
   "cell_type": "markdown",
   "id": "87a8e62f",
   "metadata": {},
   "source": [
    "# SMOTE for oversampling the postive cases"
   ]
  },
  {
   "cell_type": "code",
   "execution_count": 46,
   "id": "4388aa29",
   "metadata": {},
   "outputs": [],
   "source": [
    "x = df_ohe.iloc[:,1:]\n",
    "y = df_ohe['fraud_bool']"
   ]
  },
  {
   "cell_type": "code",
   "execution_count": 49,
   "id": "ab501163",
   "metadata": {},
   "outputs": [],
   "source": [
    "from imblearn.over_sampling import SMOTE \n",
    "\n",
    "sm = SMOTE(random_state=42)\n",
    "\n",
    "X_sm, y_sm = sm.fit_resample(x, y)"
   ]
  },
  {
   "cell_type": "code",
   "execution_count": 50,
   "id": "7f301309",
   "metadata": {},
   "outputs": [
    {
     "name": "stdout",
     "output_type": "stream",
     "text": [
      "Shape of X before SMOTE: (1039371, 47)\n",
      "Shape of X after SMOTE: (1977942, 47)\n",
      "\n",
      "Balance of positive and negative classes (%):\n"
     ]
    },
    {
     "data": {
      "text/plain": [
       "1    50.0\n",
       "0    50.0\n",
       "Name: fraud_bool, dtype: float64"
      ]
     },
     "execution_count": 50,
     "metadata": {},
     "output_type": "execute_result"
    }
   ],
   "source": [
    "print(f'''Shape of X before SMOTE: {x.shape}\n",
    "Shape of X after SMOTE: {X_sm.shape}''')\n",
    "\n",
    "print('\\nBalance of positive and negative classes (%):')\n",
    "y_sm.value_counts(normalize=True) * 100"
   ]
  },
  {
   "cell_type": "code",
   "execution_count": 52,
   "id": "4b7ea51a",
   "metadata": {},
   "outputs": [],
   "source": [
    "df_final = pd.concat([X_sm, y_sm], axis=1)"
   ]
  },
  {
   "cell_type": "code",
   "execution_count": 55,
   "id": "356fb6a9",
   "metadata": {},
   "outputs": [
    {
     "data": {
      "text/plain": [
       "array([50, 40, 30, 20, 70, 60, 80, 10, 90, 54, 29, 32, 53, 31, 41, 24, 56,\n",
       "       43, 37, 46, 72, 49, 45, 58, 28, 76, 47, 69, 38, 57, 36, 13, 33, 35,\n",
       "       48, 23, 62, 59, 64, 78, 15, 22, 16, 39, 19, 27, 18, 66, 77, 71, 65,\n",
       "       61, 34, 21, 81, 42, 73, 52, 51, 26, 44, 55, 74, 85, 25, 67, 68, 79,\n",
       "       11, 75, 17, 63, 14, 88, 87, 12, 82, 89, 83, 84, 86])"
      ]
     },
     "execution_count": 55,
     "metadata": {},
     "output_type": "execute_result"
    }
   ],
   "source": [
    "df_final['customer_age'].unique()"
   ]
  },
  {
   "cell_type": "code",
   "execution_count": 56,
   "id": "0d1bd4c8",
   "metadata": {},
   "outputs": [],
   "source": [
    "df_final['customer_age'] = df_final['customer_age'].map(lambda x: round(x/10)*10)"
   ]
  },
  {
   "cell_type": "code",
   "execution_count": 57,
   "id": "9ddf3d03",
   "metadata": {},
   "outputs": [
    {
     "data": {
      "text/plain": [
       "array([50, 40, 30, 20, 70, 60, 80, 10, 90])"
      ]
     },
     "execution_count": 57,
     "metadata": {},
     "output_type": "execute_result"
    }
   ],
   "source": [
    "df_final['customer_age'].unique()"
   ]
  },
  {
   "cell_type": "code",
   "execution_count": 58,
   "id": "6ee15b7e",
   "metadata": {},
   "outputs": [],
   "source": [
    "#df_final.to_csv('final_bankfraud_df.csv', index = False)"
   ]
  },
  {
   "cell_type": "code",
   "execution_count": null,
   "id": "f463685a",
   "metadata": {},
   "outputs": [],
   "source": []
  }
 ],
 "metadata": {
  "kernelspec": {
   "display_name": "Python 3",
   "language": "python",
   "name": "python3"
  },
  "language_info": {
   "codemirror_mode": {
    "name": "ipython",
    "version": 3
   },
   "file_extension": ".py",
   "mimetype": "text/x-python",
   "name": "python",
   "nbconvert_exporter": "python",
   "pygments_lexer": "ipython3",
   "version": "3.8.8"
  }
 },
 "nbformat": 4,
 "nbformat_minor": 5
}
